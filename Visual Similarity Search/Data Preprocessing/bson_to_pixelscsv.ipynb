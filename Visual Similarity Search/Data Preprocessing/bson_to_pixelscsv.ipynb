{
 "cells": [
  {
   "cell_type": "code",
   "execution_count": null,
   "metadata": {},
   "outputs": [],
   "source": [
    "import numpy as np # linear algebra\n",
    "import pandas as pd # data processing, CSV file I/O (e.g. pd.read_csv)\n",
    "import bson\n",
    "import io\n",
    "from imageio import imread\n",
    "\n",
    "# Input data files are available in the \"../input/\" directory.\n",
    "# For example, running this (by clicking run or pressing Shift+Enter) will list the files in the input directory\n",
    "\n",
    "from subprocess import check_output\n",
    "data = bson.decode_file_iter(open('train_example.bson', 'rb'))\n",
    "\n",
    "df=pd.DataFrame({\"category\":[]})\n",
    "df=pd.concat([df,pd.DataFrame(columns=[i for i in range(180*180*3)])])\n",
    "df['category'].astype('object')\n",
    "index=0\n",
    "pd.options.display.precision=11\n",
    "\n",
    "for i,j in enumerate(data):\n",
    "    for k in range(len(j['imgs'])):\n",
    "        image=np.reshape((imread(io.BytesIO(j['imgs'][k]['picture']))),-1)\n",
    "        image=image.tolist()\n",
    "        image.insert(0,j[\"category_id\"])\n",
    "        df.loc[index]=image\n",
    "        index=index+1    \n",
    "            \n",
    "        \n",
    "df.to_csv(\"t.csv\",index=False)\n",
    "# Any results you write to the current directory are saved as output."
   ]
  }
 ],
 "metadata": {
  "kernelspec": {
   "display_name": "Python 3",
   "language": "python",
   "name": "python3"
  },
  "language_info": {
   "codemirror_mode": {
    "name": "ipython",
    "version": 3
   },
   "file_extension": ".py",
   "mimetype": "text/x-python",
   "name": "python",
   "nbconvert_exporter": "python",
   "pygments_lexer": "ipython3",
   "version": "3.7.6"
  }
 },
 "nbformat": 4,
 "nbformat_minor": 4
}
